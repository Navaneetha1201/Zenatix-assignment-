{
 "cells": [
  {
   "cell_type": "code",
   "execution_count": 1,
   "id": "9399adee",
   "metadata": {},
   "outputs": [],
   "source": [
    "import pandas as pd\n",
    "import numpy as np\n",
    "import matplotlib.pyplot as plt\n",
    "import seaborn as sns\n",
    "import datetime as dt\n",
    "\n",
    "import warnings\n",
    "warnings.filterwarnings('ignore')"
   ]
  },
  {
   "cell_type": "code",
   "execution_count": 2,
   "id": "6e0dd6b8",
   "metadata": {},
   "outputs": [],
   "source": [
    "df= pd.read_csv('ac.csv')\n",
    "temp= pd.read_csv('temp.csv')"
   ]
  },
  {
   "cell_type": "code",
   "execution_count": 3,
   "id": "5ffeca82",
   "metadata": {},
   "outputs": [
    {
     "name": "stdout",
     "output_type": "stream",
     "text": [
      "                  0      AC 1      AC 2  AC 3  AC 4      AC 5      AC 6  \\\n",
      "0  01-08-2019 00:00  7.518632  8.788315   0.0   0.0  2.617045  4.079041   \n",
      "1  01-08-2019 00:01       NaN       NaN   NaN   NaN       NaN       NaN   \n",
      "2  01-08-2019 00:02  7.426114  8.940615   0.0   0.0  2.581625  3.781231   \n",
      "3  01-08-2019 00:03       NaN       NaN   NaN   NaN       NaN       NaN   \n",
      "4  01-08-2019 00:04  7.052986  9.161103   0.0   0.0  2.592095  3.800127   \n",
      "\n",
      "       AC 7      AC 8      AC 9     AC 10     AC 11     AC 12     AC 13  \\\n",
      "0  2.782276  4.624447  5.222060  2.151238  1.585072  0.560373  3.142941   \n",
      "1       NaN       NaN       NaN       NaN       NaN       NaN       NaN   \n",
      "2  2.529366  5.057423  5.349465  2.414715  2.168184  1.818730  3.085110   \n",
      "3       NaN       NaN       NaN       NaN       NaN       NaN       NaN   \n",
      "4  2.332304  6.322521  3.995392  2.237114  3.345624  2.310409  3.132799   \n",
      "\n",
      "      AC 14     AC 15     AC 16     AC 17     AC 18  \n",
      "0  2.749470  5.417774  4.113460  3.305072  6.735981  \n",
      "1       NaN       NaN       NaN       NaN       NaN  \n",
      "2  2.720484  3.302422  3.986483  3.220588  6.379500  \n",
      "3       NaN       NaN       NaN       NaN       NaN  \n",
      "4  2.676861  3.539026  3.797881  3.131560  6.363475  \n",
      "<class 'pandas.core.frame.DataFrame'>\n",
      "RangeIndex: 87840 entries, 0 to 87839\n",
      "Data columns (total 19 columns):\n",
      " #   Column  Non-Null Count  Dtype  \n",
      "---  ------  --------------  -----  \n",
      " 0   0       87840 non-null  object \n",
      " 1   AC 1    43708 non-null  float64\n",
      " 2   AC 2    43711 non-null  float64\n",
      " 3   AC 3    43713 non-null  float64\n",
      " 4   AC 4    43704 non-null  float64\n",
      " 5   AC 5    43716 non-null  float64\n",
      " 6   AC 6    43717 non-null  float64\n",
      " 7   AC 7    43679 non-null  float64\n",
      " 8   AC 8    43704 non-null  float64\n",
      " 9   AC 9    43654 non-null  float64\n",
      " 10  AC 10   43690 non-null  float64\n",
      " 11  AC 11   43670 non-null  float64\n",
      " 12  AC 12   43713 non-null  float64\n",
      " 13  AC 13   43719 non-null  float64\n",
      " 14  AC 14   43696 non-null  float64\n",
      " 15  AC 15   43715 non-null  float64\n",
      " 16  AC 16   43710 non-null  float64\n",
      " 17  AC 17   43714 non-null  float64\n",
      " 18  AC 18   43723 non-null  float64\n",
      "dtypes: float64(18), object(1)\n",
      "memory usage: 12.7+ MB\n",
      "None\n",
      "               AC 1          AC 2          AC 3          AC 4          AC 5  \\\n",
      "count  43708.000000  43711.000000  43713.000000  43704.000000  43716.000000   \n",
      "mean       2.379368      3.868892      2.568411      2.395158      1.421699   \n",
      "std        2.276782      2.545147      1.487508      1.797529      0.767218   \n",
      "min        0.000000      0.000000      0.000000      0.000000      0.000000   \n",
      "25%        0.000000      2.123263      1.706508      1.258299      0.970744   \n",
      "50%        2.094330      3.791752      2.486992      2.308961      1.380183   \n",
      "75%        3.661752      5.460892      3.441527      3.476123      1.870234   \n",
      "max       11.194789     11.147141      8.430909      9.879500      5.495358   \n",
      "\n",
      "               AC 6          AC 7          AC 8          AC 9         AC 10  \\\n",
      "count  43717.000000  43679.000000  43704.000000  43654.000000  43690.000000   \n",
      "mean       2.518138      2.980883      2.548711      3.184382      1.538344   \n",
      "std        1.655560      1.473498      1.504482      1.522291      0.685461   \n",
      "min        0.000000      0.000000      0.000000      0.000000      0.000000   \n",
      "25%        1.543779      2.190803      1.766230      2.294635      1.117139   \n",
      "50%        2.665063      3.005071      2.608551      3.082134      1.504554   \n",
      "75%        3.616988      3.897857      3.496358      4.096374      1.963707   \n",
      "max        9.929291      9.356776      9.331506     10.026747      4.625030   \n",
      "\n",
      "              AC 11         AC 12         AC 13         AC 14         AC 15  \\\n",
      "count  43670.000000  43713.000000  43719.000000  43696.000000  43715.000000   \n",
      "mean       2.406141      2.699639      4.279893      2.917122      4.046283   \n",
      "std        1.554481      1.436087      1.847168      1.454946      2.016898   \n",
      "min        0.000000      0.000000      0.000000      0.000000      0.000000   \n",
      "25%        1.591748      1.949729      3.260674      1.852981      3.023501   \n",
      "50%        2.351361      2.727152      4.217381      2.787084      4.001279   \n",
      "75%        3.254937      3.566744      5.379832      3.824467      5.260193   \n",
      "max       10.363151      9.887306      9.796393      9.054969     10.349998   \n",
      "\n",
      "              AC 16         AC 17         AC 18  \n",
      "count  43710.000000  43714.000000  43723.000000  \n",
      "mean       2.800050      4.218979      6.462676  \n",
      "std        1.606239      1.125491      2.319242  \n",
      "min        0.000000      0.000000      0.000000  \n",
      "25%        1.877626      3.752478      4.013579  \n",
      "50%        2.673698      4.611434      7.131194  \n",
      "75%        3.695294      4.958306      8.314639  \n",
      "max       10.654430      5.950261     11.040031  \n"
     ]
    }
   ],
   "source": [
    "print(df.head())\n",
    "print(df.info())\n",
    "print(df.describe())"
   ]
  },
  {
   "cell_type": "code",
   "execution_count": 4,
   "id": "cc925fe3",
   "metadata": {},
   "outputs": [
    {
     "name": "stdout",
     "output_type": "stream",
     "text": [
      "               Time  Temp\n",
      "0  01-08-2019 03:00  30.0\n",
      "1  01-08-2019 06:00  33.0\n",
      "2  01-08-2019 09:00  36.0\n",
      "3  01-08-2019 12:00  36.0\n",
      "4  01-08-2019 15:00  36.0\n",
      "<class 'pandas.core.frame.DataFrame'>\n",
      "RangeIndex: 57 entries, 0 to 56\n",
      "Data columns (total 2 columns):\n",
      " #   Column  Non-Null Count  Dtype  \n",
      "---  ------  --------------  -----  \n",
      " 0   Time    57 non-null     object \n",
      " 1   Temp    56 non-null     float64\n",
      "dtypes: float64(1), object(1)\n",
      "memory usage: 1.0+ KB\n",
      "None\n",
      "            Temp\n",
      "count  56.000000\n",
      "mean   34.571429\n",
      "std     2.599700\n",
      "min    29.000000\n",
      "25%    33.000000\n",
      "50%    34.000000\n",
      "75%    37.000000\n",
      "max    40.000000\n"
     ]
    }
   ],
   "source": [
    "print(temp.head())\n",
    "print(temp.info())\n",
    "print(temp.describe())"
   ]
  },
  {
   "cell_type": "code",
   "execution_count": 5,
   "id": "17fb2903",
   "metadata": {},
   "outputs": [
    {
     "name": "stdout",
     "output_type": "stream",
     "text": [
      "0   2019-01-08 00:00:00\n",
      "1   2019-01-08 00:01:00\n",
      "2   2019-01-08 00:02:00\n",
      "3   2019-01-08 00:03:00\n",
      "4   2019-01-08 00:04:00\n",
      "Name: Date, dtype: datetime64[ns]\n"
     ]
    }
   ],
   "source": [
    "df['Date']= pd.to_datetime(df['0'])\n",
    "print(df['Date'].head())"
   ]
  },
  {
   "cell_type": "code",
   "execution_count": 6,
   "id": "7edaca99",
   "metadata": {},
   "outputs": [
    {
     "name": "stdout",
     "output_type": "stream",
     "text": [
      "                                    0      AC 1      AC 2  AC 3  AC 4  \\\n",
      "Date                                                                    \n",
      "2019-01-08 00:00:00  01-08-2019 00:00  7.518632  8.788315   0.0   0.0   \n",
      "2019-01-08 00:01:00  01-08-2019 00:01       NaN       NaN   NaN   NaN   \n",
      "2019-01-08 00:02:00  01-08-2019 00:02  7.426114  8.940615   0.0   0.0   \n",
      "2019-01-08 00:03:00  01-08-2019 00:03       NaN       NaN   NaN   NaN   \n",
      "2019-01-08 00:04:00  01-08-2019 00:04  7.052986  9.161103   0.0   0.0   \n",
      "\n",
      "                         AC 5      AC 6      AC 7      AC 8      AC 9  \\\n",
      "Date                                                                    \n",
      "2019-01-08 00:00:00  2.617045  4.079041  2.782276  4.624447  5.222060   \n",
      "2019-01-08 00:01:00       NaN       NaN       NaN       NaN       NaN   \n",
      "2019-01-08 00:02:00  2.581625  3.781231  2.529366  5.057423  5.349465   \n",
      "2019-01-08 00:03:00       NaN       NaN       NaN       NaN       NaN   \n",
      "2019-01-08 00:04:00  2.592095  3.800127  2.332304  6.322521  3.995392   \n",
      "\n",
      "                        AC 10     AC 11     AC 12     AC 13     AC 14  \\\n",
      "Date                                                                    \n",
      "2019-01-08 00:00:00  2.151238  1.585072  0.560373  3.142941  2.749470   \n",
      "2019-01-08 00:01:00       NaN       NaN       NaN       NaN       NaN   \n",
      "2019-01-08 00:02:00  2.414715  2.168184  1.818730  3.085110  2.720484   \n",
      "2019-01-08 00:03:00       NaN       NaN       NaN       NaN       NaN   \n",
      "2019-01-08 00:04:00  2.237114  3.345624  2.310409  3.132799  2.676861   \n",
      "\n",
      "                        AC 15     AC 16     AC 17     AC 18  \\\n",
      "Date                                                          \n",
      "2019-01-08 00:00:00  5.417774  4.113460  3.305072  6.735981   \n",
      "2019-01-08 00:01:00       NaN       NaN       NaN       NaN   \n",
      "2019-01-08 00:02:00  3.302422  3.986483  3.220588  6.379500   \n",
      "2019-01-08 00:03:00       NaN       NaN       NaN       NaN   \n",
      "2019-01-08 00:04:00  3.539026  3.797881  3.131560  6.363475   \n",
      "\n",
      "                                   Date  \n",
      "Date                                     \n",
      "2019-01-08 00:00:00 2019-01-08 00:00:00  \n",
      "2019-01-08 00:01:00 2019-01-08 00:01:00  \n",
      "2019-01-08 00:02:00 2019-01-08 00:02:00  \n",
      "2019-01-08 00:03:00 2019-01-08 00:03:00  \n",
      "2019-01-08 00:04:00 2019-01-08 00:04:00  \n"
     ]
    }
   ],
   "source": [
    "df.set_index(df['Date'],inplace=True)\n",
    "print(df.head())"
   ]
  },
  {
   "cell_type": "code",
   "execution_count": 7,
   "id": "9c7c893b",
   "metadata": {},
   "outputs": [
    {
     "data": {
      "text/html": [
       "<div>\n",
       "<style scoped>\n",
       "    .dataframe tbody tr th:only-of-type {\n",
       "        vertical-align: middle;\n",
       "    }\n",
       "\n",
       "    .dataframe tbody tr th {\n",
       "        vertical-align: top;\n",
       "    }\n",
       "\n",
       "    .dataframe thead th {\n",
       "        text-align: right;\n",
       "    }\n",
       "</style>\n",
       "<table border=\"1\" class=\"dataframe\">\n",
       "  <thead>\n",
       "    <tr style=\"text-align: right;\">\n",
       "      <th></th>\n",
       "      <th>AC 1</th>\n",
       "      <th>AC 2</th>\n",
       "      <th>AC 3</th>\n",
       "      <th>AC 4</th>\n",
       "      <th>AC 5</th>\n",
       "      <th>AC 6</th>\n",
       "      <th>AC 7</th>\n",
       "      <th>AC 8</th>\n",
       "      <th>AC 9</th>\n",
       "      <th>AC 10</th>\n",
       "      <th>AC 11</th>\n",
       "      <th>AC 12</th>\n",
       "      <th>AC 13</th>\n",
       "      <th>AC 14</th>\n",
       "      <th>AC 15</th>\n",
       "      <th>AC 16</th>\n",
       "      <th>AC 17</th>\n",
       "      <th>AC 18</th>\n",
       "    </tr>\n",
       "    <tr>\n",
       "      <th>Date</th>\n",
       "      <th></th>\n",
       "      <th></th>\n",
       "      <th></th>\n",
       "      <th></th>\n",
       "      <th></th>\n",
       "      <th></th>\n",
       "      <th></th>\n",
       "      <th></th>\n",
       "      <th></th>\n",
       "      <th></th>\n",
       "      <th></th>\n",
       "      <th></th>\n",
       "      <th></th>\n",
       "      <th></th>\n",
       "      <th></th>\n",
       "      <th></th>\n",
       "      <th></th>\n",
       "      <th></th>\n",
       "    </tr>\n",
       "  </thead>\n",
       "  <tbody>\n",
       "    <tr>\n",
       "      <th>2019-01-08 00:00:00</th>\n",
       "      <td>7.518632</td>\n",
       "      <td>8.788315</td>\n",
       "      <td>0.0</td>\n",
       "      <td>0.0</td>\n",
       "      <td>2.617045</td>\n",
       "      <td>4.079041</td>\n",
       "      <td>2.782276</td>\n",
       "      <td>4.624447</td>\n",
       "      <td>5.222060</td>\n",
       "      <td>2.151238</td>\n",
       "      <td>1.585072</td>\n",
       "      <td>0.560373</td>\n",
       "      <td>3.142941</td>\n",
       "      <td>2.749470</td>\n",
       "      <td>5.417774</td>\n",
       "      <td>4.113460</td>\n",
       "      <td>3.305072</td>\n",
       "      <td>6.735981</td>\n",
       "    </tr>\n",
       "    <tr>\n",
       "      <th>2019-01-08 00:02:00</th>\n",
       "      <td>7.426114</td>\n",
       "      <td>8.940615</td>\n",
       "      <td>0.0</td>\n",
       "      <td>0.0</td>\n",
       "      <td>2.581625</td>\n",
       "      <td>3.781231</td>\n",
       "      <td>2.529366</td>\n",
       "      <td>5.057423</td>\n",
       "      <td>5.349465</td>\n",
       "      <td>2.414715</td>\n",
       "      <td>2.168184</td>\n",
       "      <td>1.818730</td>\n",
       "      <td>3.085110</td>\n",
       "      <td>2.720484</td>\n",
       "      <td>3.302422</td>\n",
       "      <td>3.986483</td>\n",
       "      <td>3.220588</td>\n",
       "      <td>6.379500</td>\n",
       "    </tr>\n",
       "    <tr>\n",
       "      <th>2019-01-08 00:04:00</th>\n",
       "      <td>7.052986</td>\n",
       "      <td>9.161103</td>\n",
       "      <td>0.0</td>\n",
       "      <td>0.0</td>\n",
       "      <td>2.592095</td>\n",
       "      <td>3.800127</td>\n",
       "      <td>2.332304</td>\n",
       "      <td>6.322521</td>\n",
       "      <td>3.995392</td>\n",
       "      <td>2.237114</td>\n",
       "      <td>3.345624</td>\n",
       "      <td>2.310409</td>\n",
       "      <td>3.132799</td>\n",
       "      <td>2.676861</td>\n",
       "      <td>3.539026</td>\n",
       "      <td>3.797881</td>\n",
       "      <td>3.131560</td>\n",
       "      <td>6.363475</td>\n",
       "    </tr>\n",
       "    <tr>\n",
       "      <th>2019-01-08 00:06:00</th>\n",
       "      <td>6.665446</td>\n",
       "      <td>9.065626</td>\n",
       "      <td>0.0</td>\n",
       "      <td>0.0</td>\n",
       "      <td>2.575639</td>\n",
       "      <td>3.772891</td>\n",
       "      <td>2.596200</td>\n",
       "      <td>5.805132</td>\n",
       "      <td>3.553778</td>\n",
       "      <td>1.878356</td>\n",
       "      <td>2.737645</td>\n",
       "      <td>2.510972</td>\n",
       "      <td>3.090007</td>\n",
       "      <td>2.666604</td>\n",
       "      <td>4.607439</td>\n",
       "      <td>3.062610</td>\n",
       "      <td>3.063953</td>\n",
       "      <td>6.127366</td>\n",
       "    </tr>\n",
       "    <tr>\n",
       "      <th>2019-01-08 00:08:00</th>\n",
       "      <td>6.674838</td>\n",
       "      <td>9.096130</td>\n",
       "      <td>0.0</td>\n",
       "      <td>0.0</td>\n",
       "      <td>2.021472</td>\n",
       "      <td>3.155697</td>\n",
       "      <td>2.845417</td>\n",
       "      <td>6.315060</td>\n",
       "      <td>3.042244</td>\n",
       "      <td>1.914650</td>\n",
       "      <td>2.452500</td>\n",
       "      <td>2.171791</td>\n",
       "      <td>3.097202</td>\n",
       "      <td>2.710572</td>\n",
       "      <td>5.332696</td>\n",
       "      <td>2.640150</td>\n",
       "      <td>2.864680</td>\n",
       "      <td>5.662474</td>\n",
       "    </tr>\n",
       "  </tbody>\n",
       "</table>\n",
       "</div>"
      ],
      "text/plain": [
       "                         AC 1      AC 2  AC 3  AC 4      AC 5      AC 6  \\\n",
       "Date                                                                      \n",
       "2019-01-08 00:00:00  7.518632  8.788315   0.0   0.0  2.617045  4.079041   \n",
       "2019-01-08 00:02:00  7.426114  8.940615   0.0   0.0  2.581625  3.781231   \n",
       "2019-01-08 00:04:00  7.052986  9.161103   0.0   0.0  2.592095  3.800127   \n",
       "2019-01-08 00:06:00  6.665446  9.065626   0.0   0.0  2.575639  3.772891   \n",
       "2019-01-08 00:08:00  6.674838  9.096130   0.0   0.0  2.021472  3.155697   \n",
       "\n",
       "                         AC 7      AC 8      AC 9     AC 10     AC 11  \\\n",
       "Date                                                                    \n",
       "2019-01-08 00:00:00  2.782276  4.624447  5.222060  2.151238  1.585072   \n",
       "2019-01-08 00:02:00  2.529366  5.057423  5.349465  2.414715  2.168184   \n",
       "2019-01-08 00:04:00  2.332304  6.322521  3.995392  2.237114  3.345624   \n",
       "2019-01-08 00:06:00  2.596200  5.805132  3.553778  1.878356  2.737645   \n",
       "2019-01-08 00:08:00  2.845417  6.315060  3.042244  1.914650  2.452500   \n",
       "\n",
       "                        AC 12     AC 13     AC 14     AC 15     AC 16  \\\n",
       "Date                                                                    \n",
       "2019-01-08 00:00:00  0.560373  3.142941  2.749470  5.417774  4.113460   \n",
       "2019-01-08 00:02:00  1.818730  3.085110  2.720484  3.302422  3.986483   \n",
       "2019-01-08 00:04:00  2.310409  3.132799  2.676861  3.539026  3.797881   \n",
       "2019-01-08 00:06:00  2.510972  3.090007  2.666604  4.607439  3.062610   \n",
       "2019-01-08 00:08:00  2.171791  3.097202  2.710572  5.332696  2.640150   \n",
       "\n",
       "                        AC 17     AC 18  \n",
       "Date                                     \n",
       "2019-01-08 00:00:00  3.305072  6.735981  \n",
       "2019-01-08 00:02:00  3.220588  6.379500  \n",
       "2019-01-08 00:04:00  3.131560  6.363475  \n",
       "2019-01-08 00:06:00  3.063953  6.127366  \n",
       "2019-01-08 00:08:00  2.864680  5.662474  "
      ]
     },
     "execution_count": 7,
     "metadata": {},
     "output_type": "execute_result"
    }
   ],
   "source": [
    "df.drop(['0','Date'],axis=1,inplace=True)\n",
    "df.dropna(axis=0,how='all',inplace=True)\n",
    "df.head()"
   ]
  },
  {
   "cell_type": "code",
   "execution_count": 8,
   "id": "86626778",
   "metadata": {},
   "outputs": [
    {
     "name": "stdout",
     "output_type": "stream",
     "text": [
      "(51979, 18)\n",
      "<class 'pandas.core.frame.DataFrame'>\n",
      "DatetimeIndex: 51979 entries, 2019-01-08 00:00:00 to 2019-09-30 23:59:00\n",
      "Data columns (total 18 columns):\n",
      " #   Column  Non-Null Count  Dtype  \n",
      "---  ------  --------------  -----  \n",
      " 0   AC 1    43708 non-null  float64\n",
      " 1   AC 2    43711 non-null  float64\n",
      " 2   AC 3    43713 non-null  float64\n",
      " 3   AC 4    43704 non-null  float64\n",
      " 4   AC 5    43716 non-null  float64\n",
      " 5   AC 6    43717 non-null  float64\n",
      " 6   AC 7    43679 non-null  float64\n",
      " 7   AC 8    43704 non-null  float64\n",
      " 8   AC 9    43654 non-null  float64\n",
      " 9   AC 10   43690 non-null  float64\n",
      " 10  AC 11   43670 non-null  float64\n",
      " 11  AC 12   43713 non-null  float64\n",
      " 12  AC 13   43719 non-null  float64\n",
      " 13  AC 14   43696 non-null  float64\n",
      " 14  AC 15   43715 non-null  float64\n",
      " 15  AC 16   43710 non-null  float64\n",
      " 16  AC 17   43714 non-null  float64\n",
      " 17  AC 18   43723 non-null  float64\n",
      "dtypes: float64(18)\n",
      "memory usage: 7.5 MB\n",
      "None\n",
      "               AC 1          AC 2          AC 3          AC 4          AC 5  \\\n",
      "count  43708.000000  43711.000000  43713.000000  43704.000000  43716.000000   \n",
      "mean       2.379368      3.868892      2.568411      2.395158      1.421699   \n",
      "std        2.276782      2.545147      1.487508      1.797529      0.767218   \n",
      "min        0.000000      0.000000      0.000000      0.000000      0.000000   \n",
      "25%        0.000000      2.123263      1.706508      1.258299      0.970744   \n",
      "50%        2.094330      3.791752      2.486992      2.308961      1.380183   \n",
      "75%        3.661752      5.460892      3.441527      3.476123      1.870234   \n",
      "max       11.194789     11.147141      8.430909      9.879500      5.495358   \n",
      "\n",
      "               AC 6          AC 7          AC 8          AC 9         AC 10  \\\n",
      "count  43717.000000  43679.000000  43704.000000  43654.000000  43690.000000   \n",
      "mean       2.518138      2.980883      2.548711      3.184382      1.538344   \n",
      "std        1.655560      1.473498      1.504482      1.522291      0.685461   \n",
      "min        0.000000      0.000000      0.000000      0.000000      0.000000   \n",
      "25%        1.543779      2.190803      1.766230      2.294635      1.117139   \n",
      "50%        2.665063      3.005071      2.608551      3.082134      1.504554   \n",
      "75%        3.616988      3.897857      3.496358      4.096374      1.963707   \n",
      "max        9.929291      9.356776      9.331506     10.026747      4.625030   \n",
      "\n",
      "              AC 11         AC 12         AC 13         AC 14         AC 15  \\\n",
      "count  43670.000000  43713.000000  43719.000000  43696.000000  43715.000000   \n",
      "mean       2.406141      2.699639      4.279893      2.917122      4.046283   \n",
      "std        1.554481      1.436087      1.847168      1.454946      2.016898   \n",
      "min        0.000000      0.000000      0.000000      0.000000      0.000000   \n",
      "25%        1.591748      1.949729      3.260674      1.852981      3.023501   \n",
      "50%        2.351361      2.727152      4.217381      2.787084      4.001279   \n",
      "75%        3.254937      3.566744      5.379832      3.824467      5.260193   \n",
      "max       10.363151      9.887306      9.796393      9.054969     10.349998   \n",
      "\n",
      "              AC 16         AC 17         AC 18  \n",
      "count  43710.000000  43714.000000  43723.000000  \n",
      "mean       2.800050      4.218979      6.462676  \n",
      "std        1.606239      1.125491      2.319242  \n",
      "min        0.000000      0.000000      0.000000  \n",
      "25%        1.877626      3.752478      4.013579  \n",
      "50%        2.673698      4.611434      7.131194  \n",
      "75%        3.695294      4.958306      8.314639  \n",
      "max       10.654430      5.950261     11.040031  \n"
     ]
    }
   ],
   "source": [
    "print(df.shape)\n",
    "print(df.info())\n",
    "print(df.describe())"
   ]
  },
  {
   "cell_type": "code",
   "execution_count": 9,
   "id": "ec184ab9",
   "metadata": {},
   "outputs": [
    {
     "data": {
      "text/plain": [
       "AC 1     8271\n",
       "AC 2     8268\n",
       "AC 3     8266\n",
       "AC 4     8275\n",
       "AC 5     8263\n",
       "AC 6     8262\n",
       "AC 7     8300\n",
       "AC 8     8275\n",
       "AC 9     8325\n",
       "AC 10    8289\n",
       "AC 11    8309\n",
       "AC 12    8266\n",
       "AC 13    8260\n",
       "AC 14    8283\n",
       "AC 15    8264\n",
       "AC 16    8269\n",
       "AC 17    8265\n",
       "AC 18    8256\n",
       "dtype: int64"
      ]
     },
     "execution_count": 9,
     "metadata": {},
     "output_type": "execute_result"
    }
   ],
   "source": [
    "df.isnull().sum()"
   ]
  },
  {
   "cell_type": "code",
   "execution_count": 10,
   "id": "ee715a20",
   "metadata": {},
   "outputs": [
    {
     "name": "stdout",
     "output_type": "stream",
     "text": [
      "AC 1     0\n",
      "AC 2     0\n",
      "AC 3     0\n",
      "AC 4     0\n",
      "AC 5     0\n",
      "AC 6     0\n",
      "AC 7     0\n",
      "AC 8     0\n",
      "AC 9     0\n",
      "AC 10    0\n",
      "AC 11    0\n",
      "AC 12    0\n",
      "AC 13    0\n",
      "AC 14    0\n",
      "AC 15    0\n",
      "AC 16    0\n",
      "AC 17    0\n",
      "AC 18    0\n",
      "dtype: int64\n"
     ]
    }
   ],
   "source": [
    "df = df.fillna(method='bfill')\n",
    "print(df.isnull().sum())\n"
   ]
  },
  {
   "cell_type": "code",
   "execution_count": 11,
   "id": "eaf90054",
   "metadata": {},
   "outputs": [
    {
     "name": "stdout",
     "output_type": "stream",
     "text": [
      "Date\n",
      "2019-01-08 00:00:00    65.393197\n",
      "2019-01-08 00:02:00    64.762056\n",
      "2019-01-08 00:04:00    65.791277\n",
      "2019-01-08 00:06:00    63.779666\n",
      "2019-01-08 00:08:00    61.997570\n",
      "Name: Total, dtype: float64\n"
     ]
    }
   ],
   "source": [
    "df['Total']= df.sum(axis=1)\n",
    "print(df['Total'].head())"
   ]
  },
  {
   "cell_type": "code",
   "execution_count": 12,
   "id": "a6179e9c",
   "metadata": {},
   "outputs": [
    {
     "name": "stdout",
     "output_type": "stream",
     "text": [
      "               Time  Temp                Date\n",
      "0  01-08-2019 03:00  30.0 2019-08-01 00:00:00\n",
      "1  01-08-2019 06:00  33.0 2019-08-01 01:00:00\n",
      "2  01-08-2019 09:00  36.0 2019-08-01 02:00:00\n",
      "3  01-08-2019 12:00  36.0 2019-08-01 03:00:00\n",
      "4  01-08-2019 15:00  36.0 2019-08-01 04:00:00                 Time  Temp                Date\n",
      "52  07-08-2019 15:00  37.0 2019-08-03 04:00:00\n",
      "53  07-08-2019 18:00  35.0 2019-08-03 05:00:00\n",
      "54  07-08-2019 21:00  34.0 2019-08-03 06:00:00\n",
      "55  08-08-2019 00:00  33.0 2019-08-03 07:00:00\n",
      "56  08-08-2019 03:00   NaN 2019-08-03 08:00:00\n"
     ]
    }
   ],
   "source": [
    "pds=temp.shape[0]\n",
    "temp['Date']=pd.date_range('2019-08-01',periods=pds,freq='H')\n",
    "print(temp.head(),temp.tail())"
   ]
  },
  {
   "cell_type": "code",
   "execution_count": 17,
   "id": "8f7370bc",
   "metadata": {},
   "outputs": [
    {
     "name": "stdout",
     "output_type": "stream",
     "text": [
      "                                 Time\n",
      "Date                                 \n",
      "2019-08-01 00:00:00  01-08-2019 03:00\n",
      "2019-08-01 01:00:00  01-08-2019 06:00\n",
      "2019-08-01 02:00:00  01-08-2019 09:00\n",
      "2019-08-01 03:00:00  01-08-2019 12:00\n",
      "2019-08-01 04:00:00  01-08-2019 15:00\n"
     ]
    }
   ],
   "source": [
    "temp.set_index(temp['Date'],inplace=True)\n",
    "temp.drop(['Temp','Date'],axis=1,inplace=True)\n",
    "print(temp.head())"
   ]
  },
  {
   "cell_type": "code",
   "execution_count": 18,
   "id": "de3d47fa",
   "metadata": {},
   "outputs": [],
   "source": [
    "df_min = df.copy()"
   ]
  },
  {
   "cell_type": "code",
   "execution_count": 19,
   "id": "94a38e8d",
   "metadata": {},
   "outputs": [
    {
     "name": "stdout",
     "output_type": "stream",
     "text": [
      "                           AC 1        AC 2       AC 3       AC 4       AC 5  \\\n",
      "Date                                                                           \n",
      "2019-01-08 00:00:00  205.245213  255.051086  54.055665  29.255579  66.960217   \n",
      "2019-01-08 01:00:00  222.230520  253.772243  44.703934  55.266208  67.100296   \n",
      "2019-01-08 02:00:00  220.526540  243.397378  44.469689  43.961705  59.740380   \n",
      "2019-01-08 03:00:00  199.178419  237.699376  67.146196  43.220318  62.731445   \n",
      "2019-01-08 04:00:00  197.929595  219.027004  52.349741  76.439507  56.164297   \n",
      "\n",
      "                           AC 6       AC 7        AC 8        AC 9      AC 10  \\\n",
      "Date                                                                            \n",
      "2019-01-08 00:00:00  129.089322  80.320214  144.775203  109.584198  76.679951   \n",
      "2019-01-08 01:00:00  129.442455  78.308407  133.896818   91.611631  79.768370   \n",
      "2019-01-08 02:00:00  126.486130  82.591836  114.041240   93.468669  84.098961   \n",
      "2019-01-08 03:00:00  142.045032  91.343533  116.870897   85.345919  81.955078   \n",
      "2019-01-08 04:00:00  108.017994  87.555958  113.062609  101.495620  77.929729   \n",
      "\n",
      "                         AC 11      AC 12       AC 13       AC 14       AC 15  \\\n",
      "Date                                                                            \n",
      "2019-01-08 00:00:00  49.562069  60.468362  140.845082  155.979765  169.555986   \n",
      "2019-01-08 01:00:00  40.995962  56.617563  153.261319  170.970917  178.268818   \n",
      "2019-01-08 02:00:00  45.848432  57.599295  121.038297  150.682456  186.419658   \n",
      "2019-01-08 03:00:00  33.652736  50.129603  132.015538  151.033379  148.079304   \n",
      "2019-01-08 04:00:00  36.199177  55.104092  119.186004  128.498585  159.703888   \n",
      "\n",
      "                          AC 16       AC 17       AC 18        Total  \n",
      "Date                                                                  \n",
      "2019-01-08 00:00:00  127.322558   78.980852  155.175165  2088.906487  \n",
      "2019-01-08 01:00:00  138.366769   77.406406  119.129358  2091.117996  \n",
      "2019-01-08 02:00:00  158.015012   82.047850  118.498018  2032.931547  \n",
      "2019-01-08 03:00:00  150.045078  127.160931  116.948596  2036.601380  \n",
      "2019-01-08 04:00:00  144.357490  125.760260  118.132559  1976.914107  \n",
      "AC 1     0\n",
      "AC 2     0\n",
      "AC 3     0\n",
      "AC 4     0\n",
      "AC 5     0\n",
      "AC 6     0\n",
      "AC 7     0\n",
      "AC 8     0\n",
      "AC 9     0\n",
      "AC 10    0\n",
      "AC 11    0\n",
      "AC 12    0\n",
      "AC 13    0\n",
      "AC 14    0\n",
      "AC 15    0\n",
      "AC 16    0\n",
      "AC 17    0\n",
      "AC 18    0\n",
      "Total    0\n",
      "dtype: int64\n"
     ]
    }
   ],
   "source": [
    "df_h = df.resample('H').sum()\n",
    "print(df_h.head())\n",
    "print(df_h.isnull().sum())"
   ]
  },
  {
   "cell_type": "markdown",
   "id": "61f2b69c",
   "metadata": {},
   "source": [
    "1. Identify patterns/trends in the data?"
   ]
  },
  {
   "cell_type": "code",
   "execution_count": 20,
   "id": "c54882d8",
   "metadata": {},
   "outputs": [
    {
     "data": {
      "text/plain": [
       "<AxesSubplot:title={'center':'Total Power VS Time (in mins)'}, xlabel='Date'>"
      ]
     },
     "execution_count": 20,
     "metadata": {},
     "output_type": "execute_result"
    },
    {
     "data": {
      "image/png": "[encoded data removed]",
      "text/plain": [
       "<Figure size 432x288 with 1 Axes>"
      ]
     },
     "metadata": {
      "needs_background": "light"
     },
     "output_type": "display_data"
    }
   ],
   "source": [
    "df_min['Total'].plot.line(title= 'Total Power VS Time (in mins)')"
   ]
  },
  {
   "cell_type": "code",
   "execution_count": 21,
   "id": "051e25a3",
   "metadata": {},
   "outputs": [
    {
     "data": {
      "text/plain": [
       "<AxesSubplot:title={'center':'Hourly Total Power VS Time'}, xlabel='Date'>"
      ]
     },
     "execution_count": 21,
     "metadata": {},
     "output_type": "execute_result"
    },
    {
     "data": {
      "image/png": "[encoded data removed]",
      "text/plain": [
       "<Figure size 432x288 with 1 Axes>"
      ]
     },
     "metadata": {
      "needs_background": "light"
     },
     "output_type": "display_data"
    }
   ],
   "source": [
    "df_h['Total'].plot.line(title='Hourly Total Power VS Time')"
   ]
  },
  {
   "cell_type": "code",
   "execution_count": 22,
   "id": "51eed4e6",
   "metadata": {},
   "outputs": [
    {
     "data": {
      "text/plain": [
       "<AxesSubplot:title={'center':'Daily Total Power VS Time (in days)'}, xlabel='Date'>"
      ]
     },
     "execution_count": 22,
     "metadata": {},
     "output_type": "execute_result"
    },
    {
     "data": {
      "image/png": "[encoded data removed]",
      "text/plain": [
       "<Figure size 432x288 with 1 Axes>"
      ]
     },
     "metadata": {
      "needs_background": "light"
     },
     "output_type": "display_data"
    }
   ],
   "source": [
    "df_d = df.resample('D').sum()\n",
    "df_d['Total'].plot.line(title='Daily Total Power VS Time (in days)')"
   ]
  },
  {
   "cell_type": "markdown",
   "id": "fe2ba832",
   "metadata": {},
   "source": [
    "2. Which AC was used the most/least?"
   ]
  },
  {
   "cell_type": "code",
   "execution_count": 23,
   "id": "e2c8debf",
   "metadata": {},
   "outputs": [
    {
     "name": "stdout",
     "output_type": "stream",
     "text": [
      "AC 1     123255.475213\n",
      "AC 2     200892.556669\n",
      "AC 3     135751.411287\n",
      "AC 4     127416.586069\n",
      "AC 5      72323.277403\n",
      "AC 6     124107.856939\n",
      "AC 7     156137.939265\n",
      "AC 8     131723.702374\n",
      "AC 9     166571.250737\n",
      "AC 10     79927.151923\n",
      "AC 11    122137.124139\n",
      "AC 12    136153.482776\n",
      "AC 13    221349.514742\n",
      "AC 14    150230.347500\n",
      "AC 15    207642.687509\n",
      "AC 16    146887.338077\n",
      "AC 17    218109.610535\n",
      "AC 18    336287.605157\n",
      "dtype: float64\n",
      "AC 5 AC 18\n"
     ]
    }
   ],
   "source": [
    "pw=df_min.iloc[:,0:-1].sum(axis=0)\n",
    "print(pw)\n",
    "print(pw.idxmin(),pw.idxmax())"
   ]
  },
  {
   "cell_type": "markdown",
   "id": "c278c2d9",
   "metadata": {},
   "source": [
    "3. Relate this power data with the outside temperature of Gurgaon."
   ]
  },
  {
   "cell_type": "code",
   "execution_count": 25,
   "id": "c9cb5fa5",
   "metadata": {},
   "outputs": [
    {
     "data": {
      "text/plain": [
       "<AxesSubplot:>"
      ]
     },
     "execution_count": 25,
     "metadata": {},
     "output_type": "execute_result"
    },
    {
     "data": {
      "image/png": "[encoded data removed]",
      "text/plain": [
       "<Figure size 432x288 with 1 Axes>"
      ]
     },
     "metadata": {
      "needs_background": "light"
     },
     "output_type": "display_data"
    }
   ],
   "source": [
    "import pandas as pd\n",
    "temp = pd.read_csv ('temp.csv')\n",
    "temp['Temp'].plot.line()\n"
   ]
  },
  {
   "cell_type": "code",
   "execution_count": 26,
   "id": "f93469b1",
   "metadata": {},
   "outputs": [
    {
     "data": {
      "text/plain": [
       "<AxesSubplot:>"
      ]
     },
     "execution_count": 26,
     "metadata": {},
     "output_type": "execute_result"
    },
    {
     "data": {
      "image/png": "[encoded data removed]",
      "text/plain": [
       "<Figure size 432x288 with 1 Axes>"
      ]
     },
     "metadata": {
      "needs_background": "light"
     },
     "output_type": "display_data"
    }
   ],
   "source": [
    "temp['Temp'][temp.Temp.idxmin()]= temp.Temp.mean()\n",
    "temp['Temp'].plot.line()"
   ]
  },
  {
   "cell_type": "code",
   "execution_count": 56,
   "id": "d2edb849",
   "metadata": {},
   "outputs": [
    {
     "ename": "AttributeError",
     "evalue": "'numpy.float64' object has no attribute 'corr'",
     "output_type": "error",
     "traceback": [
      "\u001b[1;31m---------------------------------------------------------------------------\u001b[0m",
      "\u001b[1;31mAttributeError\u001b[0m                            Traceback (most recent call last)",
      "\u001b[1;32m<ipython-input-56-2f95eed3caa5>\u001b[0m in \u001b[0;36m<module>\u001b[1;34m\u001b[0m\n\u001b[0;32m      1\u001b[0m \u001b[1;32mimport\u001b[0m \u001b[0mseaborn\u001b[0m \u001b[1;32mas\u001b[0m \u001b[0msns\u001b[0m\u001b[1;33m\u001b[0m\u001b[1;33m\u001b[0m\u001b[0m\n\u001b[0;32m      2\u001b[0m \u001b[0msns\u001b[0m\u001b[1;33m.\u001b[0m\u001b[0mscatterplot\u001b[0m\u001b[1;33m(\u001b[0m\u001b[0mtemp_d\u001b[0m\u001b[1;33m[\u001b[0m\u001b[1;34m'Temp'\u001b[0m\u001b[1;33m]\u001b[0m\u001b[1;33m,\u001b[0m\u001b[0mdf_d\u001b[0m\u001b[1;33m[\u001b[0m\u001b[1;34m'Total'\u001b[0m\u001b[1;33m]\u001b[0m\u001b[1;33m)\u001b[0m\u001b[1;33m\u001b[0m\u001b[1;33m\u001b[0m\u001b[0m\n\u001b[1;32m----> 3\u001b[1;33m \u001b[0mprint\u001b[0m\u001b[1;33m(\u001b[0m\u001b[0mtemp_d\u001b[0m\u001b[1;33m[\u001b[0m\u001b[1;34m'Temp'\u001b[0m\u001b[1;33m]\u001b[0m\u001b[1;33m.\u001b[0m\u001b[0mcorr\u001b[0m\u001b[1;33m(\u001b[0m\u001b[0mdf_d\u001b[0m\u001b[1;33m[\u001b[0m\u001b[1;34m'Total'\u001b[0m\u001b[1;33m]\u001b[0m\u001b[1;33m)\u001b[0m\u001b[1;33m)\u001b[0m\u001b[1;33m\u001b[0m\u001b[1;33m\u001b[0m\u001b[0m\n\u001b[0m",
      "\u001b[1;31mAttributeError\u001b[0m: 'numpy.float64' object has no attribute 'corr'"
     ]
    },
    {
     "data": {
      "image/png": "[encoded data removed]",
      "text/plain": [
       "<Figure size 432x288 with 1 Axes>"
      ]
     },
     "metadata": {
      "needs_background": "light"
     },
     "output_type": "display_data"
    }
   ],
   "source": [
    "import seaborn as sns\n",
    "sns.scatterplot(temp_d['Temp'],df_d['Total'])\n",
    "print(temp_d['Temp'].corr(df_d['Total']))"
   ]
  }
 ],
 "metadata": {
  "kernelspec": {
   "display_name": "Python 3",
   "language": "python",
   "name": "python3"
  },
  "language_info": {
   "codemirror_mode": {
    "name": "ipython",
    "version": 3
   },
   "file_extension": ".py",
   "mimetype": "text/x-python",
   "name": "python",
   "nbconvert_exporter": "python",
   "pygments_lexer": "ipython3",
   "version": "3.8.8"
  }
 },
 "nbformat": 4,
 "nbformat_minor": 5
}
